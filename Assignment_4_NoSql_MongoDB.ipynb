{
  "nbformat": 4,
  "nbformat_minor": 0,
  "metadata": {
    "colab": {
      "provenance": []
    },
    "kernelspec": {
      "name": "python3",
      "display_name": "Python 3"
    },
    "language_info": {
      "name": "python"
    }
  },
  "cells": [
    {
      "cell_type": "markdown",
      "source": [
        "### **Instructions**\n",
        "\n",
        "1. **Environment Setup:**\n",
        "   - This notebook will automatically install all necessary packages.\n",
        "   - It uses a simulated in-memory MongoDB-like database for local execution.\n",
        "\n",
        "2. **Dataset:**\n",
        "   - The dataset contains detailed movie information, including title, year, genre, ratings, director, cast, and box office collection.\n",
        "\n",
        "3. **Tasks:**\n",
        "   Complete the following tasks in this notebook. Each section contains specific instructions.\n",
        "\n",
        "---"
      ],
      "metadata": {
        "id": "E0c_SGMLznkt"
      }
    },
    {
      "cell_type": "code",
      "source": [
        "# Install necessary packages\n",
        "def install_packages():\n",
        "    !pip install pymongo\n",
        "    !pip install mongomock\n",
        "    !pip install matplotlib\n",
        "    !pip install pandas\n",
        "    !pip install dnspython --quiet"
      ],
      "metadata": {
        "id": "cofQ31YC1dbF"
      },
      "execution_count": 1,
      "outputs": []
    },
    {
      "cell_type": "code",
      "source": [
        "install_packages()"
      ],
      "metadata": {
        "id": "xWT2-ywy1fy7",
        "colab": {
          "base_uri": "https://localhost:8080/"
        },
        "outputId": "fc4420ee-e026-48aa-8f7e-034f10707046"
      },
      "execution_count": 3,
      "outputs": [
        {
          "output_type": "stream",
          "name": "stdout",
          "text": [
            "Collecting pymongo\n",
            "  Downloading pymongo-4.11.1-cp311-cp311-manylinux_2_17_x86_64.manylinux2014_x86_64.whl.metadata (22 kB)\n",
            "Requirement already satisfied: dnspython<3.0.0,>=1.16.0 in /usr/local/lib/python3.11/dist-packages (from pymongo) (2.7.0)\n",
            "Downloading pymongo-4.11.1-cp311-cp311-manylinux_2_17_x86_64.manylinux2014_x86_64.whl (1.4 MB)\n",
            "\u001b[?25l   \u001b[90m━━━━━━━━━━━━━━━━━━━━━━━━━━━━━━━━━━━━━━━━\u001b[0m \u001b[32m0.0/1.4 MB\u001b[0m \u001b[31m?\u001b[0m eta \u001b[36m-:--:--\u001b[0m\r\u001b[2K   \u001b[91m━━━━\u001b[0m\u001b[90m╺\u001b[0m\u001b[90m━━━━━━━━━━━━━━━━━━━━━━━━━━━━━━━━━━━\u001b[0m \u001b[32m0.2/1.4 MB\u001b[0m \u001b[31m4.3 MB/s\u001b[0m eta \u001b[36m0:00:01\u001b[0m\r\u001b[2K   \u001b[91m━━━━━━━━━━━━━━━━━━━━━\u001b[0m\u001b[90m╺\u001b[0m\u001b[90m━━━━━━━━━━━━━━━━━━\u001b[0m \u001b[32m0.7/1.4 MB\u001b[0m \u001b[31m11.4 MB/s\u001b[0m eta \u001b[36m0:00:01\u001b[0m\r\u001b[2K   \u001b[90m━━━━━━━━━━━━━━━━━━━━━━━━━━━━━━━━━━━━━━━━\u001b[0m \u001b[32m1.4/1.4 MB\u001b[0m \u001b[31m15.3 MB/s\u001b[0m eta \u001b[36m0:00:00\u001b[0m\n",
            "\u001b[?25hInstalling collected packages: pymongo\n",
            "Successfully installed pymongo-4.11.1\n",
            "Collecting mongomock\n",
            "  Downloading mongomock-4.3.0-py2.py3-none-any.whl.metadata (12 kB)\n",
            "Requirement already satisfied: packaging in /usr/local/lib/python3.11/dist-packages (from mongomock) (24.2)\n",
            "Requirement already satisfied: pytz in /usr/local/lib/python3.11/dist-packages (from mongomock) (2025.1)\n",
            "Collecting sentinels (from mongomock)\n",
            "  Downloading sentinels-1.0.0.tar.gz (4.1 kB)\n",
            "  Preparing metadata (setup.py) ... \u001b[?25l\u001b[?25hdone\n",
            "Downloading mongomock-4.3.0-py2.py3-none-any.whl (64 kB)\n",
            "\u001b[2K   \u001b[90m━━━━━━━━━━━━━━━━━━━━━━━━━━━━━━━━━━━━━━━━\u001b[0m \u001b[32m64.9/64.9 kB\u001b[0m \u001b[31m2.3 MB/s\u001b[0m eta \u001b[36m0:00:00\u001b[0m\n",
            "\u001b[?25hBuilding wheels for collected packages: sentinels\n",
            "  Building wheel for sentinels (setup.py) ... \u001b[?25l\u001b[?25hdone\n",
            "  Created wheel for sentinels: filename=sentinels-1.0.0-py3-none-any.whl size=3172 sha256=c01651c59999c7b656b3d12c2f0ecb2cc584609ec59e6e231e256cf41055018a\n",
            "  Stored in directory: /root/.cache/pip/wheels/39/e6/05/d0ca91a2c6be3e4b2a6b4e721fe778f9186b9a383ea05300e8\n",
            "Successfully built sentinels\n",
            "Installing collected packages: sentinels, mongomock\n",
            "Successfully installed mongomock-4.3.0 sentinels-1.0.0\n",
            "Requirement already satisfied: matplotlib in /usr/local/lib/python3.11/dist-packages (3.10.0)\n",
            "Requirement already satisfied: contourpy>=1.0.1 in /usr/local/lib/python3.11/dist-packages (from matplotlib) (1.3.1)\n",
            "Requirement already satisfied: cycler>=0.10 in /usr/local/lib/python3.11/dist-packages (from matplotlib) (0.12.1)\n",
            "Requirement already satisfied: fonttools>=4.22.0 in /usr/local/lib/python3.11/dist-packages (from matplotlib) (4.56.0)\n",
            "Requirement already satisfied: kiwisolver>=1.3.1 in /usr/local/lib/python3.11/dist-packages (from matplotlib) (1.4.8)\n",
            "Requirement already satisfied: numpy>=1.23 in /usr/local/lib/python3.11/dist-packages (from matplotlib) (1.26.4)\n",
            "Requirement already satisfied: packaging>=20.0 in /usr/local/lib/python3.11/dist-packages (from matplotlib) (24.2)\n",
            "Requirement already satisfied: pillow>=8 in /usr/local/lib/python3.11/dist-packages (from matplotlib) (11.1.0)\n",
            "Requirement already satisfied: pyparsing>=2.3.1 in /usr/local/lib/python3.11/dist-packages (from matplotlib) (3.2.1)\n",
            "Requirement already satisfied: python-dateutil>=2.7 in /usr/local/lib/python3.11/dist-packages (from matplotlib) (2.8.2)\n",
            "Requirement already satisfied: six>=1.5 in /usr/local/lib/python3.11/dist-packages (from python-dateutil>=2.7->matplotlib) (1.17.0)\n",
            "Requirement already satisfied: pandas in /usr/local/lib/python3.11/dist-packages (2.2.2)\n",
            "Requirement already satisfied: numpy>=1.23.2 in /usr/local/lib/python3.11/dist-packages (from pandas) (1.26.4)\n",
            "Requirement already satisfied: python-dateutil>=2.8.2 in /usr/local/lib/python3.11/dist-packages (from pandas) (2.8.2)\n",
            "Requirement already satisfied: pytz>=2020.1 in /usr/local/lib/python3.11/dist-packages (from pandas) (2025.1)\n",
            "Requirement already satisfied: tzdata>=2022.7 in /usr/local/lib/python3.11/dist-packages (from pandas) (2025.1)\n",
            "Requirement already satisfied: six>=1.5 in /usr/local/lib/python3.11/dist-packages (from python-dateutil>=2.8.2->pandas) (1.17.0)\n"
          ]
        }
      ]
    },
    {
      "cell_type": "markdown",
      "source": [
        "#### **Task 1: Setting Up MongoDB Connection**"
      ],
      "metadata": {
        "id": "H6qx75fBzrqE"
      }
    },
    {
      "cell_type": "code",
      "source": [
        "# Import required libraries\n",
        "from pymongo import MongoClient\n",
        "import mongomock\n",
        "import pandas as pd\n",
        "import matplotlib.pyplot as plt\n",
        "import json"
      ],
      "metadata": {
        "id": "OUClUwvGzb-9"
      },
      "execution_count": 5,
      "outputs": []
    },
    {
      "cell_type": "code",
      "source": [
        "# Simulate MongoDB with mongomock\n",
        "client = mongomock.MongoClient()\n",
        "db = client[\"big_data_assignment\"]\n",
        "movies_collection = db[\"movies\"]\n"
      ],
      "metadata": {
        "id": "Dg6KSC08zucE"
      },
      "execution_count": 6,
      "outputs": []
    },
    {
      "cell_type": "code",
      "source": [
        "# Dataset\n",
        "movies_data = [\n",
        "    {\n",
        "        \"title\": \"Inception\",\n",
        "        \"year\": 2010,\n",
        "        \"genre\": [\"Action\",\"Sci-Fi\"],\n",
        "        \"ratings\": 8.8,\n",
        "        \"director\": \"Christopher Nolan\",\n",
        "        \"cast\": [\"Leonardo DiCaprio\", \"Joseph Gordon-Levitt\"],\n",
        "        \"box_office\": 829851444\n",
        "    },\n",
        "\n",
        "{\n",
        "    \"title\": \"Forrest Gump\",\n",
        "    \"year\": 1994,\n",
        "    \"genre\": [\"Drama\", \"Romance\"],\n",
        "    \"ratings\": 8.8,\n",
        "    \"director\": \"Robert Zemeckis\",\n",
        "        \"cast\": [\"Tom Hanks\", \"Robin Wright\"],\n",
        "        \"box_office\": 678222284\n",
        "        },\n",
        "\n",
        "  {\n",
        "       \"title\": \"The Matrix\",\n",
        "    \"year\": 2001,\n",
        "    \"genre\": [\"Action\",\"Sci-Fi\"],\n",
        "    \"ratings\": 8.7,\n",
        "    \"director\": \"The Wachowskis\",\n",
        "        \"cast\": [\"Keanu Reeves\", \"Al Pacino\"],\n",
        "        \"box_office\": 4635173830000\n",
        "\n",
        "}\n",
        "\n",
        "\n",
        "]"
      ],
      "metadata": {
        "id": "40cyjyGhz-7b"
      },
      "execution_count": 50,
      "outputs": []
    },
    {
      "cell_type": "code",
      "source": [
        "# Insert data into the simulated database\n",
        "movies_collection.insert_many(movies_data)\n",
        "print(\"Simulated database initialized and data inserted successfully!\")"
      ],
      "metadata": {
        "id": "oxibCCkk0T6N",
        "colab": {
          "base_uri": "https://localhost:8080/"
        },
        "outputId": "e65b6b39-c6f1-46e2-97be-7b426c76939a"
      },
      "execution_count": 30,
      "outputs": [
        {
          "output_type": "stream",
          "name": "stdout",
          "text": [
            "Simulated database initialized and data inserted successfully!\n"
          ]
        }
      ]
    },
    {
      "cell_type": "markdown",
      "source": [
        "#### **Task 2: Basic Data Exploration**"
      ],
      "metadata": {
        "id": "9J7vv8Z_0Xxc"
      }
    },
    {
      "cell_type": "code",
      "source": [
        "# 1. Movies released after 2000\n",
        "movies_after_2000 = list(movies_collection.find({\"year\": {\"$gt\": 2000}}))\n",
        "print(\"Movies after 2000:\", movies_after_2000)"
      ],
      "metadata": {
        "id": "ACrwbZmH0DRi",
        "colab": {
          "base_uri": "https://localhost:8080/"
        },
        "outputId": "643ea306-32ef-43ac-f23b-31b2726efc17"
      },
      "execution_count": 31,
      "outputs": [
        {
          "output_type": "stream",
          "name": "stdout",
          "text": [
            "Movies after 2000: [{'title': 'Inception', 'year': 2010, 'genre': ['Action', 'Sci-Fi'], 'ratings': 8.8, 'director': 'Christopher Nolan', 'cast': ['Leonardo DiCaprio', 'Joseph Gordon-Levitt'], 'box_office': 829851444, '_id': ObjectId('67b2589cec6e923ddd838996')}, {'title': 'Inception', 'year': 2010, 'genre': ['Action', 'Sci-Fi'], 'ratings': 8.8, 'director': 'Christopher Nolan', 'cast': ['Leonardo DiCaprio', 'Joseph Gordon-Levitt'], 'box_office': 829851444, '_id': ObjectId('67b261a7ec6e923ddd83899a')}, {'title': 'The Matrix', 'year': 2001, 'genre': ['Action', 'Sci-Fi'], 'ratings': 8.7, 'director': 'The Wachowskis', 'cast': ['Keanu Reeves', 'Laurence Fishburne'], 'box_office': 4635173830000, '_id': ObjectId('67b261a7ec6e923ddd83899c')}]\n"
          ]
        }
      ]
    },
    {
      "cell_type": "code",
      "source": [
        "# 2. Movies in the \"Action\" genre\n",
        "action_movies = list(movies_collection.find({\"genre\": \"Action\"}))\n",
        "print(\"Action movies:\", action_movies)\n"
      ],
      "metadata": {
        "id": "JeX4ACKB0aLL",
        "colab": {
          "base_uri": "https://localhost:8080/"
        },
        "outputId": "83371f5f-c0fa-465d-8e94-0c2746a70b90"
      },
      "execution_count": 32,
      "outputs": [
        {
          "output_type": "stream",
          "name": "stdout",
          "text": [
            "Action movies: [{'title': 'Inception', 'year': 2010, 'genre': ['Action', 'Sci-Fi'], 'ratings': 8.8, 'director': 'Christopher Nolan', 'cast': ['Leonardo DiCaprio', 'Joseph Gordon-Levitt'], 'box_office': 829851444, '_id': ObjectId('67b2589cec6e923ddd838996')}, {'title': 'The Matrix', 'year': 1999, 'genre': ['Action', 'Sci-Fi'], 'ratings': 8.7, 'director': 'The Wachowskis', 'cast': ['Keanu Reeves', 'Laurence Fishburne'], 'box_office': 463517383, '_id': ObjectId('67b2589cec6e923ddd838998')}, {'title': 'Inception', 'year': 2010, 'genre': ['Action', 'Sci-Fi'], 'ratings': 8.8, 'director': 'Christopher Nolan', 'cast': ['Leonardo DiCaprio', 'Joseph Gordon-Levitt'], 'box_office': 829851444, '_id': ObjectId('67b261a7ec6e923ddd83899a')}, {'title': 'The Matrix', 'year': 2001, 'genre': ['Action', 'Sci-Fi'], 'ratings': 8.7, 'director': 'The Wachowskis', 'cast': ['Keanu Reeves', 'Laurence Fishburne'], 'box_office': 4635173830000, '_id': ObjectId('67b261a7ec6e923ddd83899c')}]\n"
          ]
        }
      ]
    },
    {
      "cell_type": "code",
      "source": [
        "# 3. Top 5 movies with highest ratings\n",
        "top_movies = list(movies_collection.find().sort(\"ratings\", -1).limit(5))\n",
        "print(\"Top 5 movies by ratings:\", top_movies)"
      ],
      "metadata": {
        "id": "I2Tq2lMl0cI0",
        "colab": {
          "base_uri": "https://localhost:8080/"
        },
        "outputId": "a22b3d97-b18e-46b7-e274-87efb5770fc6"
      },
      "execution_count": 33,
      "outputs": [
        {
          "output_type": "stream",
          "name": "stdout",
          "text": [
            "Top 5 movies by ratings: [{'title': 'Forrest Gump', 'year': 1994, 'genre': ['Drama', 'Romance'], 'ratings': 9.3, 'director': 'Robert Zemeckis', 'cast': ['Tom Hanks', 'Robin Wright'], 'box_office': 678222284, '_id': ObjectId('67b2589cec6e923ddd838997')}, {'title': 'Inception', 'year': 2010, 'genre': ['Action', 'Sci-Fi'], 'ratings': 8.8, 'director': 'Christopher Nolan', 'cast': ['Leonardo DiCaprio', 'Joseph Gordon-Levitt'], 'box_office': 829851444, '_id': ObjectId('67b2589cec6e923ddd838996')}, {'title': 'Inception', 'year': 2010, 'genre': ['Action', 'Sci-Fi'], 'ratings': 8.8, 'director': 'Christopher Nolan', 'cast': ['Leonardo DiCaprio', 'Joseph Gordon-Levitt'], 'box_office': 829851444, '_id': ObjectId('67b261a7ec6e923ddd83899a')}, {'title': 'Forrest Gump', 'year': 1994, 'genre': ['Drama', 'Romance'], 'ratings': 8.8, 'director': 'Robert Zemeckis', 'cast': ['Tom Hanks', 'Robin Wright'], 'box_office': 678222284, '_id': ObjectId('67b261a7ec6e923ddd83899b')}, {'title': 'The Matrix', 'year': 1999, 'genre': ['Action', 'Sci-Fi'], 'ratings': 8.7, 'director': 'The Wachowskis', 'cast': ['Keanu Reeves', 'Laurence Fishburne'], 'box_office': 463517383, '_id': ObjectId('67b2589cec6e923ddd838998')}]\n"
          ]
        }
      ]
    },
    {
      "cell_type": "code",
      "source": [
        "# 4. Count of movies in each genre\n",
        "pipeline = [\n",
        "    {\"$unwind\": \"$genre\"},\n",
        "    {\"$group\": {\"_id\": \"$genre\", \"count\": {\"$sum\": 1}}},\n",
        "    {\"$sort\": {\"count\": -1}}\n",
        "]\n",
        "genre_counts = list(movies_collection.aggregate(pipeline))\n",
        "print(\"Movies per Genre:\", genre_counts)"
      ],
      "metadata": {
        "id": "URxK3wmz106R",
        "colab": {
          "base_uri": "https://localhost:8080/"
        },
        "outputId": "ca538c5f-6827-4404-9c81-c28bea272ea3"
      },
      "execution_count": 34,
      "outputs": [
        {
          "output_type": "stream",
          "name": "stdout",
          "text": [
            "Movies per Genre: [{'count': 4, '_id': 'Action'}, {'count': 4, '_id': 'Sci-Fi'}, {'count': 2, '_id': 'Drama'}, {'count': 2, '_id': 'Romance'}]\n"
          ]
        }
      ]
    },
    {
      "cell_type": "code",
      "source": [
        "# 5. Movies directed by \"Christopher Nolan\"\n",
        "nolan_movies = list(movies_collection.find({\"director\": \"Christopher Nolan\"}))\n",
        "print(\"Christopher Nolan Movies:\", nolan_movies)"
      ],
      "metadata": {
        "id": "K_KA_vDp12l6",
        "colab": {
          "base_uri": "https://localhost:8080/"
        },
        "outputId": "3874a22d-eeed-4822-b5d6-7ef9384156d4"
      },
      "execution_count": 35,
      "outputs": [
        {
          "output_type": "stream",
          "name": "stdout",
          "text": [
            "Christopher Nolan Movies: [{'title': 'Inception', 'year': 2010, 'genre': ['Action', 'Sci-Fi'], 'ratings': 8.8, 'director': 'Christopher Nolan', 'cast': ['Leonardo DiCaprio', 'Joseph Gordon-Levitt'], 'box_office': 829851444, '_id': ObjectId('67b2589cec6e923ddd838996')}, {'title': 'Inception', 'year': 2010, 'genre': ['Action', 'Sci-Fi'], 'ratings': 8.8, 'director': 'Christopher Nolan', 'cast': ['Leonardo DiCaprio', 'Joseph Gordon-Levitt'], 'box_office': 829851444, '_id': ObjectId('67b261a7ec6e923ddd83899a')}]\n"
          ]
        }
      ]
    },
    {
      "cell_type": "markdown",
      "source": [
        "#### **Task 3: Indexing and Schema Validation**"
      ],
      "metadata": {
        "id": "POTfDJh12AEs"
      }
    },
    {
      "cell_type": "code",
      "source": [
        "# 1. Create an index on the `title` field\n",
        "movies_collection.create_index(\"title\")\n",
        "print(\"Index on title created.\")"
      ],
      "metadata": {
        "id": "SzTWe2nK2Bnh",
        "colab": {
          "base_uri": "https://localhost:8080/"
        },
        "outputId": "30e5f15f-5f52-4f86-a8c5-ccfacc6468fb"
      },
      "execution_count": 36,
      "outputs": [
        {
          "output_type": "stream",
          "name": "stdout",
          "text": [
            "Index on title created.\n"
          ]
        }
      ]
    },
    {
      "cell_type": "code",
      "source": [
        "# 2. Create a compound index on `year` and `genre`\n",
        "movies_collection.create_index([(\"year\", 1), (\"genre\", 1)])\n",
        "print(\"Compound index on year and genre created.\")"
      ],
      "metadata": {
        "id": "jVqu_BgP2DeB",
        "colab": {
          "base_uri": "https://localhost:8080/"
        },
        "outputId": "10d2b967-2555-4cbc-cae1-b26accc09a00"
      },
      "execution_count": 37,
      "outputs": [
        {
          "output_type": "stream",
          "name": "stdout",
          "text": [
            "Compound index on year and genre created.\n"
          ]
        }
      ]
    },
    {
      "cell_type": "markdown",
      "source": [
        "#### **Task 4: Advanced Data Manipulation**"
      ],
      "metadata": {
        "id": "V8v9BFcI2GxT"
      }
    },
    {
      "cell_type": "code",
      "source": [
        "# 1. Add a new movie\n",
        "new_movie = {\n",
        "\n",
        "             \"title\": \"Big Data Adventure\",\n",
        "    \"year\": 2024,\n",
        "    \"genre\": [\"Documentary\", \"Technology\"],\n",
        "    \"ratings\": 8.5,\n",
        "    \"director\": \"John Doe\",\n",
        "        \"cast\": [\"Alice\",\"Bob\"],\n",
        "        \"box_office\": 1500000000000000\n",
        "}\n",
        "movies_collection.insert_one(new_movie)\n",
        "print(\"New movie added.\")"
      ],
      "metadata": {
        "id": "VuMfpD6N2FHx",
        "colab": {
          "base_uri": "https://localhost:8080/"
        },
        "outputId": "516f630d-f789-42ac-b01f-32bd0260bb4d"
      },
      "execution_count": 45,
      "outputs": [
        {
          "output_type": "stream",
          "name": "stdout",
          "text": [
            "New movie added.\n"
          ]
        }
      ]
    },
    {
      "cell_type": "code",
      "source": [
        "# 2. Update ratings for Drama movies\n",
        "movies_collection.update_many({\"genre\": \"Drama\"}, {\"$inc\": {\"ratings\": 0.5}})\n",
        "print(\"Ratings updated for Drama movies.\")"
      ],
      "metadata": {
        "id": "Dy0SSZGm2Iq6",
        "colab": {
          "base_uri": "https://localhost:8080/"
        },
        "outputId": "b93ca5fa-ea28-4a40-fdc1-0a8557e76738"
      },
      "execution_count": 46,
      "outputs": [
        {
          "output_type": "stream",
          "name": "stdout",
          "text": [
            "Ratings updated for Drama movies.\n"
          ]
        }
      ]
    },
    {
      "cell_type": "code",
      "source": [
        "# 3. Delete movies with low box office collections\n",
        "movies_collection.delete_many({\"box_office\": {\"$lt\": 100000000}})\n",
        "print(\"Movies with low box office collections deleted.\")"
      ],
      "metadata": {
        "id": "Bh-Ziz9Q2KZ6",
        "colab": {
          "base_uri": "https://localhost:8080/"
        },
        "outputId": "fc6228b9-0198-4af2-d1f3-0513bed59f8c"
      },
      "execution_count": 47,
      "outputs": [
        {
          "output_type": "stream",
          "name": "stdout",
          "text": [
            "Movies with low box office collections deleted.\n"
          ]
        }
      ]
    },
    {
      "cell_type": "markdown",
      "source": [
        "#### **Task 5: Aggregation Framework**"
      ],
      "metadata": {
        "id": "E5h3O_k62QCr"
      }
    },
    {
      "cell_type": "code",
      "source": [
        "# 1. Average rating by genre\n",
        "avg_rating_pipeline = [\n",
        "    {\"$unwind\": \"$genre\"},\n",
        "    {\"$group\": {\"_id\": \"$genre\", \"average_rating\": {\"$avg\": \"$ratings\"}}},\n",
        "    {\"$sort\": {\"average_rating\": -1}}\n",
        "]\n",
        "avg_ratings = list(movies_collection.aggregate(avg_rating_pipeline))\n",
        "print(\"Average ratings by genre:\", avg_ratings)"
      ],
      "metadata": {
        "id": "SzlxRpA52OwB",
        "colab": {
          "base_uri": "https://localhost:8080/"
        },
        "outputId": "610b2772-07fb-4acb-963c-0daa904163d1"
      },
      "execution_count": 48,
      "outputs": [
        {
          "output_type": "stream",
          "name": "stdout",
          "text": [
            "Average ratings by genre: [{'average_rating': 10.05, '_id': 'Drama'}, {'average_rating': 10.05, '_id': 'Romance'}, {'average_rating': 8.75, '_id': 'Action'}, {'average_rating': 8.75, '_id': 'Sci-Fi'}, {'average_rating': 8.5, '_id': 'Documentary'}, {'average_rating': 8.5, '_id': 'Technology'}]\n"
          ]
        }
      ]
    },
    {
      "cell_type": "code",
      "source": [
        "# 2. Top 3 genres by box office\n",
        "top_genres_pipeline = [\n",
        "    {\"$unwind\": \"$genre\"},\n",
        "    {\"$group\": {\"_id\": \"$genre\", \"avg_box_office\": {\"$avg\": \"$box_office\"}}},\n",
        "    {\"$sort\": {\"total_box_office\": -1}},\n",
        "    {\"$limit\": 3}\n",
        "]\n",
        "top_genres = list(movies_collection.aggregate(top_genres_pipeline))\n",
        "print(\"Top 3 genres by box office:\", top_genres)\n",
        "\n",
        "# 3. Top 5 directors by movie count\n",
        "directors_pipeline = [\n",
        "    {\"$group\": {\"_id\": \"$director\", \"movie_count\": {\"$sum\": 1}}},\n",
        "    {\"$sort\": {\"movie_count\": -1}},\n",
        "    {\"$limit\": 5}\n",
        "]\n",
        "top_directors = list(movies_collection.aggregate(directors_pipeline))\n",
        "print(\"Top 5 directors:\", top_directors)"
      ],
      "metadata": {
        "id": "qVUUZAjt2SWj",
        "colab": {
          "base_uri": "https://localhost:8080/"
        },
        "outputId": "23b67a45-3e53-4b49-bd96-6923c0129306"
      },
      "execution_count": 49,
      "outputs": [
        {
          "output_type": "stream",
          "name": "stdout",
          "text": [
            "Top 3 genres by box office: [{'avg_box_office': 1159324262567.75, '_id': 'Action'}, {'avg_box_office': 1500000000000000.0, '_id': 'Documentary'}, {'avg_box_office': 678222284.0, '_id': 'Drama'}]\n",
            "Top 5 directors: [{'movie_count': 2, '_id': 'Christopher Nolan'}, {'movie_count': 2, '_id': 'Robert Zemeckis'}, {'movie_count': 2, '_id': 'The Wachowskis'}, {'movie_count': 1, '_id': 'John Doe'}]\n"
          ]
        }
      ]
    },
    {
      "cell_type": "markdown",
      "source": [
        "#### **Task 6: Advanced Queries**"
      ],
      "metadata": {
        "id": "tTTRZAaM2Yvz"
      }
    },
    {
      "cell_type": "code",
      "source": [
        "# 1. Movies with cast member names starting with \"A\"\n",
        "movies_with_a = list(movies_collection.find({\"cast\": {\"$regex\": \"^A\", \"$options\": \"i\"}}))\n",
        "print(\"Movies with cast member names starting with 'A':\", movies_with_a)\n",
        "\n",
        "# 2. Sci-Fi movies with specific box office range\n",
        "sci_fi_movies = list(movies_collection.find({\"$and\": [\n",
        "    {\"genre\": \"Sci-Fi\"},\n",
        "    {\"box_office\": {\"$gte\": 100000000, \"$lte\": 100000000}}\n",
        "]}))\n",
        "print(\"Sci-Fi movies with box office between 1M and 10M:\", sci_fi_movies)"
      ],
      "metadata": {
        "id": "nQBfdvwF2ZWZ",
        "colab": {
          "base_uri": "https://localhost:8080/"
        },
        "outputId": "fb9b73c6-45f5-4f4a-cfac-83815a59602a"
      },
      "execution_count": 51,
      "outputs": [
        {
          "output_type": "stream",
          "name": "stdout",
          "text": [
            "Movies with cast member names starting with 'A': [{'title': 'Big Data Adventure', 'year': 2024, 'genre': ['Documentary', 'Technology'], 'ratings': 8.5, 'director': 'John Doe', 'cast': ['Alice', 'Bob'], 'box_office': 1500000000000000, '_id': ObjectId('67b261e9ec6e923ddd83899e')}]\n",
            "Sci-Fi movies with box office between 1M and 10M: []\n"
          ]
        }
      ]
    },
    {
      "cell_type": "markdown",
      "source": [
        "#### **Task 7: Export Data**"
      ],
      "metadata": {
        "id": "QKLKqwy42wgC"
      }
    },
    {
      "cell_type": "code",
      "source": [
        "# 1. Export modified dataset to CSV\n",
        "movies_df = pd.DataFrame(list(movies_collection.find()))\n",
        "movies_df.to_csv(\"modified_movies.csv\", index=False)\n",
        "print(\"Modified dataset exported to 'modified_movies.csv'.\")\n",
        "\n",
        "# 2. Export aggregation results to CSV\n",
        "avg_ratings_df = pd.DataFrame(avg_ratings)\n",
        "avg_ratings_df.to_csv(\"avg_ratings.csv\", index=False)\n",
        "print(\"Average ratings by genre exported to 'avg_ratings.csv'.\")"
      ],
      "metadata": {
        "id": "vZgRasB72a3p",
        "colab": {
          "base_uri": "https://localhost:8080/"
        },
        "outputId": "0e766838-97d1-4df4-dfb4-d84e92284f18"
      },
      "execution_count": 52,
      "outputs": [
        {
          "output_type": "stream",
          "name": "stdout",
          "text": [
            "Modified dataset exported to 'modified_movies.csv'.\n",
            "Average ratings by genre exported to 'avg_ratings.csv'.\n"
          ]
        }
      ]
    },
    {
      "cell_type": "markdown",
      "source": [
        "#### **Task 8: Visualizations**"
      ],
      "metadata": {
        "id": "GYksPc6E2z6k"
      }
    },
    {
      "cell_type": "code",
      "source": [
        "# Bar chart for genre count\n",
        "genre_names = [genre[\"_id\"] for genre in genre_counts]\n",
        "genre_counts = [genre[\"count\"] for genre in genre_counts]\n",
        "plt.bar(genre_names, genre_counts)\n",
        "plt.xlabel(\"Genre\")\n",
        "plt.ylabel(\"Count\")\n",
        "plt.title(\"Genre Count\")\n",
        "plt.show()"
      ],
      "metadata": {
        "id": "bYgZhDlB20S5",
        "colab": {
          "base_uri": "https://localhost:8080/",
          "height": 472
        },
        "outputId": "394306b6-2748-4451-902d-70daea4dce50"
      },
      "execution_count": 53,
      "outputs": [
        {
          "output_type": "display_data",
          "data": {
            "text/plain": [
              "<Figure size 640x480 with 1 Axes>"
            ],
            "image/png": "[encoded data removed]"
          },
          "metadata": {}
        }
      ]
    },
    {
      "cell_type": "code",
      "source": [
        "# Scatter plot for box office vs ratings\n",
        "box_office = [movie[\"box_office\"] for movie in movies_df.to_dict(\"records\") if \"box_office\" in movie]\n",
        "ratings = [movie[\"ratings\"] for movie in movies_df.to_dict(\"records\") if \"ratings\" in movie]\n",
        "plt.scatter(ratings, box_office)\n",
        "plt.xlabel(\"Ratings\")\n",
        "plt.ylabel(\"Box Office\")\n",
        "plt.title(\"Box Office vs Ratings\")\n",
        "plt.show()"
      ],
      "metadata": {
        "id": "66ytSY_122bw",
        "colab": {
          "base_uri": "https://localhost:8080/",
          "height": 472
        },
        "outputId": "ac395126-6f23-4d28-b52f-a18239666a64"
      },
      "execution_count": 55,
      "outputs": [
        {
          "output_type": "display_data",
          "data": {
            "text/plain": [
              "<Figure size 640x480 with 1 Axes>"
            ],
            "image/png": "[encoded data removed]"
          },
          "metadata": {}
        }
      ]
    },
    {
      "cell_type": "code",
      "source": [
        "# Line chart for average ratings by year\n",
        "avg_ratings_by_year = movies_df.groupby(\"year\")[\"ratings\"].mean().reset_index()\n",
        "plt.plot(avg_ratings_by_year[\"year\"], avg_ratings_by_year[\"ratings\"])\n",
        "plt.xlabel(\"Year\")\n",
        "plt.ylabel(\"Average Rating\")\n",
        "plt.title(\"Average Ratings by Year\")\n",
        "plt.show()"
      ],
      "metadata": {
        "id": "UGqpKP3S24UB",
        "colab": {
          "base_uri": "https://localhost:8080/",
          "height": 472
        },
        "outputId": "e5bfc018-8fbb-4e3a-a639-e1284aec40e0"
      },
      "execution_count": 56,
      "outputs": [
        {
          "output_type": "display_data",
          "data": {
            "text/plain": [
              "<Figure size 640x480 with 1 Axes>"
            ],
            "image/png": "[encoded data removed]"
          },
          "metadata": {}
        }
      ]
    }
  ]
}