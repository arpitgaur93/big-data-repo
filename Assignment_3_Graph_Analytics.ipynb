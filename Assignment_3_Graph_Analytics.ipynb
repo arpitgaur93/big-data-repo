{
  "cells": [
    {
      "cell_type": "markdown",
      "metadata": {
        "id": "Il2SyuinpaRK"
      },
      "source": [
        "# Graph Analytics using Neo4j\n",
        "## Introduction\n",
        "This notebook will guide you through setting up **Neo4j locally** in Google Colab, creating a large graph dataset, and performing **Graph Analytics** using **Cypher Query Language**.\n",
        "\n",
        "---"
      ]
    },
    {
      "cell_type": "markdown",
      "metadata": {
        "id": "nyYHTislpaRO"
      },
      "source": [
        "## 1. Install and Configure Neo4j in Google Colab"
      ]
    },
    {
      "cell_type": "code",
      "execution_count": 2,
      "metadata": {
        "id": "LfHn_DLMpaRO",
        "colab": {
          "base_uri": "https://localhost:8080/"
        },
        "outputId": "2687ce08-4345-44a5-bde3-050934536491"
      },
      "outputs": [
        {
          "output_type": "stream",
          "name": "stdout",
          "text": [
            "--2025-02-14 20:28:08--  https://debian.neo4j.com/neotechnology.gpg.key\n",
            "Resolving debian.neo4j.com (debian.neo4j.com)... 18.65.229.44, 18.65.229.93, 18.65.229.53, ...\n",
            "Connecting to debian.neo4j.com (debian.neo4j.com)|18.65.229.44|:443... connected.\n",
            "HTTP request sent, awaiting response... 200 OK\n",
            "Length: 3905 (3.8K) [application/pgp-keys]\n",
            "Saving to: ‘STDOUT’\n",
            "\n",
            "\r-                     0%[                    ]       0  --.-KB/s               \r-                   100%[===================>]   3.81K  --.-KB/s    in 0s      \n",
            "\n",
            "2025-02-14 20:28:08 (76.1 MB/s) - written to stdout [3905/3905]\n",
            "\n",
            "Warning: apt-key is deprecated. Manage keyring files in trusted.gpg.d instead (see apt-key(8)).\n",
            "OK\n",
            "deb https://debian.neo4j.com stable 4.4\n",
            "Get:1 https://debian.neo4j.com stable InRelease [44.2 kB]\n",
            "Get:2 https://cloud.r-project.org/bin/linux/ubuntu jammy-cran40/ InRelease [3,632 B]\n",
            "Get:3 http://security.ubuntu.com/ubuntu jammy-security InRelease [129 kB]\n",
            "Hit:4 http://archive.ubuntu.com/ubuntu jammy InRelease\n",
            "Get:5 https://r2u.stat.illinois.edu/ubuntu jammy InRelease [6,555 B]\n",
            "Get:6 http://archive.ubuntu.com/ubuntu jammy-updates InRelease [128 kB]\n",
            "Get:7 https://developer.download.nvidia.com/compute/cuda/repos/ubuntu2204/x86_64  InRelease [1,581 B]\n",
            "Get:8 https://debian.neo4j.com stable/4.4 amd64 Packages [14.4 kB]\n",
            "Get:9 http://archive.ubuntu.com/ubuntu jammy-backports InRelease [127 kB]\n",
            "Get:10 https://r2u.stat.illinois.edu/ubuntu jammy/main amd64 Packages [2,658 kB]\n",
            "Hit:11 https://ppa.launchpadcontent.net/deadsnakes/ppa/ubuntu jammy InRelease\n",
            "Hit:12 https://ppa.launchpadcontent.net/graphics-drivers/ppa/ubuntu jammy InRelease\n",
            "Get:13 http://archive.ubuntu.com/ubuntu jammy-updates/main amd64 Packages [2,911 kB]\n",
            "Get:14 https://developer.download.nvidia.com/compute/cuda/repos/ubuntu2204/x86_64  Packages [1,313 kB]\n",
            "Hit:15 https://ppa.launchpadcontent.net/ubuntugis/ppa/ubuntu jammy InRelease\n",
            "Get:16 https://r2u.stat.illinois.edu/ubuntu jammy/main all Packages [8,680 kB]\n",
            "Get:17 http://archive.ubuntu.com/ubuntu jammy-updates/universe amd64 Packages [1,526 kB]\n",
            "Fetched 17.5 MB in 2s (8,071 kB/s)\n",
            "Reading package lists... Done\n",
            "Building dependency tree... Done\n",
            "Reading state information... Done\n",
            "21 packages can be upgraded. Run 'apt list --upgradable' to see them.\n",
            "\u001b[1;33mW: \u001b[0mhttps://debian.neo4j.com/dists/stable/InRelease: Key is stored in legacy trusted.gpg keyring (/etc/apt/trusted.gpg), see the DEPRECATION section in apt-key(8) for details.\u001b[0m\n",
            "\u001b[1;33mW: \u001b[0mSkipping acquire of configured file 'main/source/Sources' as repository 'https://r2u.stat.illinois.edu/ubuntu jammy InRelease' does not seem to provide it (sources.list entry misspelt?)\u001b[0m\n",
            "Reading package lists... Done\n",
            "Building dependency tree... Done\n",
            "Reading state information... Done\n",
            "The following additional packages will be installed:\n",
            "  cypher-shell daemon\n",
            "The following NEW packages will be installed:\n",
            "  cypher-shell daemon neo4j\n",
            "0 upgraded, 3 newly installed, 0 to remove and 21 not upgraded.\n",
            "Need to get 137 MB of archives.\n",
            "After this operation, 152 MB of additional disk space will be used.\n",
            "Get:1 http://archive.ubuntu.com/ubuntu jammy/universe amd64 daemon amd64 0.8-1 [60.9 kB]\n",
            "Get:2 https://debian.neo4j.com stable/4.4 amd64 cypher-shell all 1:4.4.41 [7,083 kB]\n",
            "Get:3 https://debian.neo4j.com stable/4.4 amd64 neo4j all 1:4.4.41 [130 MB]\n",
            "Fetched 137 MB in 2s (55.5 MB/s)\n",
            "debconf: unable to initialize frontend: Dialog\n",
            "debconf: (No usable dialog-like program is installed, so the dialog based frontend cannot be used. at /usr/share/perl5/Debconf/FrontEnd/Dialog.pm line 78, <> line 3.)\n",
            "debconf: falling back to frontend: Readline\n",
            "debconf: unable to initialize frontend: Readline\n",
            "debconf: (This frontend requires a controlling tty.)\n",
            "debconf: falling back to frontend: Teletype\n",
            "dpkg-preconfigure: unable to re-open stdin: \n",
            "Selecting previously unselected package daemon.\n",
            "(Reading database ... 124926 files and directories currently installed.)\n",
            "Preparing to unpack .../daemon_0.8-1_amd64.deb ...\n",
            "Unpacking daemon (0.8-1) ...\n",
            "Selecting previously unselected package cypher-shell.\n",
            "Preparing to unpack .../cypher-shell_1%3a4.4.41_all.deb ...\n",
            "Unpacking cypher-shell (1:4.4.41) ...\n",
            "Selecting previously unselected package neo4j.\n",
            "Preparing to unpack .../neo4j_1%3a4.4.41_all.deb ...\n",
            "Unpacking neo4j (1:4.4.41) ...\n",
            "Setting up cypher-shell (1:4.4.41) ...\n",
            "Setting up daemon (0.8-1) ...\n",
            "Setting up neo4j (1:4.4.41) ...\n",
            "Processing triggers for man-db (2.10.2-1) ...\n"
          ]
        }
      ],
      "source": [
        "!wget -O - https://debian.neo4j.com/neotechnology.gpg.key | sudo apt-key add -\n",
        "!echo 'deb https://debian.neo4j.com stable 4.4' | sudo tee -a /etc/apt/sources.list.d/neo4j.list\n",
        "!sudo apt update\n",
        "!sudo apt install -y neo4j"
      ]
    },
    {
      "cell_type": "markdown",
      "metadata": {
        "id": "FBEdZNsppaRP"
      },
      "source": [
        "### 2. Start Neo4j Locally"
      ]
    },
    {
      "cell_type": "code",
      "execution_count": 3,
      "metadata": {
        "id": "KY6CBBTJpaRQ",
        "colab": {
          "base_uri": "https://localhost:8080/"
        },
        "outputId": "e0e2e169-bd6c-4807-ff6d-6c7ae4ebf499"
      },
      "outputs": [
        {
          "output_type": "stream",
          "name": "stdout",
          "text": [
            "Directories in use:\n",
            "home:         /var/lib/neo4j\n",
            "config:       /etc/neo4j\n",
            "logs:         /var/log/neo4j\n",
            "plugins:      /var/lib/neo4j/plugins\n",
            "import:       /var/lib/neo4j/import\n",
            "data:         /var/lib/neo4j/data\n",
            "certificates: /var/lib/neo4j/certificates\n",
            "licenses:     /var/lib/neo4j/licenses\n",
            "run:          /var/lib/neo4j/run\n",
            "Starting Neo4j.\n",
            "Started neo4j (pid:1806). It is available at http://localhost:7474\n",
            "There may be a short delay until the server is ready.\n",
            " * neo4j is not running\n",
            "Selecting JVM - Version:11.0.26+4-post-Ubuntu-1ubuntu122.04, Name:OpenJDK 64-Bit Server VM, Vendor:Ubuntu\n",
            "Changed password for user 'neo4j'. IMPORTANT: this change will only take effect if performed before the database is started for the first time.\n"
          ]
        }
      ],
      "source": [
        "!sudo service neo4j start\n",
        "!sudo service neo4j status\n",
        "!echo -e \"neo4j\\nneo4j\" | sudo neo4j-admin set-initial-password neo4j"
      ]
    },
    {
      "cell_type": "markdown",
      "metadata": {
        "id": "zfIe-UrzpaRQ"
      },
      "source": [
        "### 3. Install Python Driver for Neo4j"
      ]
    },
    {
      "cell_type": "code",
      "execution_count": 4,
      "metadata": {
        "id": "BYFWBQQwpaRQ",
        "colab": {
          "base_uri": "https://localhost:8080/"
        },
        "outputId": "a5641d10-7455-4e27-90b0-9bfee34567a7"
      },
      "outputs": [
        {
          "output_type": "stream",
          "name": "stdout",
          "text": [
            "Collecting neo4j\n",
            "  Downloading neo4j-5.28.1-py3-none-any.whl.metadata (5.9 kB)\n",
            "Requirement already satisfied: pytz in /usr/local/lib/python3.11/dist-packages (from neo4j) (2025.1)\n",
            "Downloading neo4j-5.28.1-py3-none-any.whl (312 kB)\n",
            "\u001b[?25l   \u001b[90m━━━━━━━━━━━━━━━━━━━━━━━━━━━━━━━━━━━━━━━━\u001b[0m \u001b[32m0.0/312.3 kB\u001b[0m \u001b[31m?\u001b[0m eta \u001b[36m-:--:--\u001b[0m\r\u001b[2K   \u001b[91m━━━━━━━━━━━━━━━━━━━━━━━━━━━━━━━━━━━━━━━\u001b[0m\u001b[90m╺\u001b[0m \u001b[32m307.2/312.3 kB\u001b[0m \u001b[31m10.0 MB/s\u001b[0m eta \u001b[36m0:00:01\u001b[0m\r\u001b[2K   \u001b[90m━━━━━━━━━━━━━━━━━━━━━━━━━━━━━━━━━━━━━━━━\u001b[0m \u001b[32m312.3/312.3 kB\u001b[0m \u001b[31m7.2 MB/s\u001b[0m eta \u001b[36m0:00:00\u001b[0m\n",
            "\u001b[?25hInstalling collected packages: neo4j\n",
            "Successfully installed neo4j-5.28.1\n"
          ]
        }
      ],
      "source": [
        "!pip install neo4j"
      ]
    },
    {
      "cell_type": "markdown",
      "metadata": {
        "id": "o5dSn92KpaRQ"
      },
      "source": [
        "### 4. Connect to Local Neo4j Database"
      ]
    },
    {
      "cell_type": "code",
      "execution_count": 5,
      "metadata": {
        "id": "oFSGPQZhpaRR",
        "colab": {
          "base_uri": "https://localhost:8080/"
        },
        "outputId": "2493869d-320b-4817-f494-492048b2cbb2"
      },
      "outputs": [
        {
          "output_type": "stream",
          "name": "stdout",
          "text": [
            "Connected to local Neo4j instance!\n"
          ]
        }
      ],
      "source": [
        "from neo4j import GraphDatabase\n",
        "\n",
        "URI = \"bolt://localhost:7687\"\n",
        "USER = \"neo4j\"\n",
        "PASSWORD = \"neo4j\"\n",
        "\n",
        "driver = GraphDatabase.driver(URI, auth=(USER, PASSWORD))\n",
        "\n",
        "def run_query(query):\n",
        "    with driver.session() as session:\n",
        "        result = session.run(query)\n",
        "        return [record for record in result]\n",
        "\n",
        "print(\"Connected to local Neo4j instance!\")\n",
        "\n"
      ]
    },
    {
      "cell_type": "markdown",
      "metadata": {
        "id": "FKQ386bTpaRR"
      },
      "source": [
        "### 5. Create a Large Graph Dataset"
      ]
    },
    {
      "cell_type": "code",
      "execution_count": 6,
      "metadata": {
        "id": "-tdYGg1spaRR",
        "colab": {
          "base_uri": "https://localhost:8080/"
        },
        "outputId": "996ea264-015f-44d2-dc41-40c8d5881ef8"
      },
      "outputs": [
        {
          "output_type": "stream",
          "name": "stdout",
          "text": [
            "IoT Graph Database Created!\n"
          ]
        }
      ],
      "source": [
        "create_large_iot_graph_query = \"\"\"\n",
        "CREATE (temp1:Device {name:'Temp Sensor A', type:'Sensor', location:'Factory Floor'}),\n",
        "       (temp2:Device {name:'Temp Sensor B', type:'Sensor', location:'Warehouse'}),\n",
        "       (humid1:Device {name:'Humidity Sensor', type:'Sensor', location:'Factory Floor'}),\n",
        "       (camera1:Device {name:'Security Camera A', type:'Camera', location:'Factory Entrance'}),\n",
        "       (camera2:Device {name:'Security Camera B', type:'Camera', location:'Warehouse'}),\n",
        "       (robot1:Device {name:'Industrial Robot 1', type:'Actuator', location:'Assembly Line'}),\n",
        "       (robot2:Device {name:'Industrial Robot 2', type:'Actuator', location:'Warehouse'}),\n",
        "       (gateway1:Gateway {name:'Edge Gateway 1', type:'Gateway'}),\n",
        "       (gateway2:Gateway {name:'Edge Gateway 2', type:'Gateway'}),\n",
        "       (cloud1:Cloud {name:'AWS IoT Cloud', provider:'AWS'}),\n",
        "       (cloud2:Cloud {name:'Azure IoT Hub', provider:'Microsoft'}),\n",
        "       (admin1:User {name:'Admin 1', role:'IoT Manager'}),\n",
        "       (admin2:User {name:'Admin 2', role:'Security Manager'})\n",
        "\n",
        "CREATE (temp1)-[:CONNECTED_TO]->(gateway1),\n",
        "       (temp2)-[:CONNECTED_TO]->(gateway2),\n",
        "       (humid1)-[:CONNECTED_TO]->(gateway1),\n",
        "       (camera1)-[:CONNECTED_TO]->(gateway1),\n",
        "       (camera2)-[:CONNECTED_TO]->(gateway2),\n",
        "       (robot1)-[:CONNECTED_TO]->(gateway1),\n",
        "       (robot2)-[:CONNECTED_TO]->(gateway2),\n",
        "\n",
        "       (gateway1)-[:CONNECTED_TO]->(cloud1),\n",
        "       (gateway2)-[:CONNECTED_TO]->(cloud2),\n",
        "\n",
        "       (admin1)-[:MANAGES]->(temp1),\n",
        "       (admin1)-[:MANAGES]->(humid1),\n",
        "       (admin1)-[:MANAGES]->(robot1),\n",
        "       (admin2)-[:MANAGES]->(camera1),\n",
        "       (admin2)-[:MANAGES]->(camera2),\n",
        "       (admin1)-[:MANAGES]->(gateway1),\n",
        "       (admin2)-[:MANAGES]->(gateway2);\n",
        "\"\"\"\n",
        "\n",
        "run_query(create_large_iot_graph_query)\n",
        "print(\"IoT Graph Database Created!\")\n"
      ]
    },
    {
      "cell_type": "markdown",
      "metadata": {
        "id": "hif_8h7KpaRR"
      },
      "source": [
        "### 6. Query the Graph"
      ]
    },
    {
      "cell_type": "code",
      "execution_count": 11,
      "metadata": {
        "id": "9acgfv1KpaRS",
        "colab": {
          "base_uri": "https://localhost:8080/"
        },
        "outputId": "de5195c6-5fdc-4c62-e059-a03c71c5198d"
      },
      "outputs": [
        {
          "output_type": "stream",
          "name": "stdout",
          "text": [
            "\n",
            "Query 1: List of IoT Devices\n",
            "<Record Device='Temp Sensor A' Type='Sensor' Location='Factory Floor'>\n",
            "<Record Device='Temp Sensor B' Type='Sensor' Location='Warehouse'>\n",
            "<Record Device='Humidity Sensor' Type='Sensor' Location='Factory Floor'>\n",
            "<Record Device='Security Camera A' Type='Camera' Location='Factory Entrance'>\n",
            "<Record Device='Security Camera B' Type='Camera' Location='Warehouse'>\n",
            "<Record Device='Industrial Robot 1' Type='Actuator' Location='Assembly Line'>\n",
            "<Record Device='Industrial Robot 2' Type='Actuator' Location='Warehouse'>\n"
          ]
        }
      ],
      "source": [
        "query1 = \"\"\"\n",
        "MATCH (d:Device)\n",
        "RETURN d.name AS Device, d.type AS Type, d.location AS Location;\n",
        "\"\"\"\n",
        "print(\"\\nQuery 1: List of IoT Devices\")\n",
        "results = run_query(query1)\n",
        "for record in results:\n",
        "    print(record)"
      ]
    },
    {
      "cell_type": "markdown",
      "metadata": {
        "id": "5U0x3x-7paRS"
      },
      "source": [
        "### 7. Graph Analytics Exercises"
      ]
    },
    {
      "cell_type": "code",
      "execution_count": 12,
      "metadata": {
        "id": "JY1s4yHHpaRS",
        "colab": {
          "base_uri": "https://localhost:8080/"
        },
        "outputId": "96e14768-5a45-444f-ad3b-28f3ba7ea20c"
      },
      "outputs": [
        {
          "output_type": "stream",
          "name": "stdout",
          "text": [
            "\n",
            "Query 2: Devices Managed by Admin\n"
          ]
        }
      ],
      "source": [
        "# Query 2: Find all devices managed by the admin\n",
        "query2 = \"\"\"\n",
        "MATCH (u:User {name:'Admin'})-[:MANAGES]->(d)\n",
        "RETURN d.name AS ManagedDevice;\n",
        "\"\"\"\n",
        "print(\"\\nQuery 2: Devices Managed by Admin\")\n",
        "results = run_query(query2)\n",
        "for record in results:\n",
        "    print(record)"
      ]
    },
    {
      "cell_type": "code",
      "execution_count": 14,
      "metadata": {
        "id": "ASOk6FQVpaRS",
        "colab": {
          "base_uri": "https://localhost:8080/"
        },
        "outputId": "4bb38d38-74d0-4efb-e18f-b943092b1e22"
      },
      "outputs": [
        {
          "output_type": "stream",
          "name": "stdout",
          "text": [
            "\n",
            "Query 3: Devices connected to the Edge Gateway\n"
          ]
        }
      ],
      "source": [
        "# Query 3: Find all devices connected to the edge gateway\n",
        "query3 = \"\"\"\n",
        "MATCH (g:Gateway {name:'Edge Gateway'})<-[:CONNECTED_TO]-(d)\n",
        "RETURN d.name AS ConnecteddDevice;\n",
        "\"\"\"\n",
        "print(\"\\nQuery 3: Devices connected to the Edge Gateway\")\n",
        "results = run_query(query3)\n",
        "for record in results:\n",
        "    print(record)"
      ]
    },
    {
      "cell_type": "code",
      "execution_count": 15,
      "metadata": {
        "id": "f7vX9bn4paRS",
        "colab": {
          "base_uri": "https://localhost:8080/"
        },
        "outputId": "ad34384a-77e7-4730-f200-9a3859b3e4e4"
      },
      "outputs": [
        {
          "output_type": "stream",
          "name": "stdout",
          "text": [
            "\n",
            "Query 4: Data flow path from sensors to cloud\n",
            "[<Record path=<Path start=<Node element_id='0' labels=frozenset({'Device'}) properties={'name': 'Temp Sensor A', 'location': 'Factory Floor', 'type': 'Sensor'}> end=<Node element_id='9' labels=frozenset({'Cloud'}) properties={'provider': 'AWS', 'name': 'AWS IoT Cloud'}> size=2>>, <Record path=<Path start=<Node element_id='2' labels=frozenset({'Device'}) properties={'name': 'Humidity Sensor', 'location': 'Factory Floor', 'type': 'Sensor'}> end=<Node element_id='9' labels=frozenset({'Cloud'}) properties={'provider': 'AWS', 'name': 'AWS IoT Cloud'}> size=2>>, <Record path=<Path start=<Node element_id='3' labels=frozenset({'Device'}) properties={'name': 'Security Camera A', 'location': 'Factory Entrance', 'type': 'Camera'}> end=<Node element_id='9' labels=frozenset({'Cloud'}) properties={'provider': 'AWS', 'name': 'AWS IoT Cloud'}> size=2>>, <Record path=<Path start=<Node element_id='5' labels=frozenset({'Device'}) properties={'name': 'Industrial Robot 1', 'location': 'Assembly Line', 'type': 'Actuator'}> end=<Node element_id='9' labels=frozenset({'Cloud'}) properties={'provider': 'AWS', 'name': 'AWS IoT Cloud'}> size=2>>, <Record path=<Path start=<Node element_id='1' labels=frozenset({'Device'}) properties={'name': 'Temp Sensor B', 'location': 'Warehouse', 'type': 'Sensor'}> end=<Node element_id='10' labels=frozenset({'Cloud'}) properties={'provider': 'Microsoft', 'name': 'Azure IoT Hub'}> size=2>>, <Record path=<Path start=<Node element_id='4' labels=frozenset({'Device'}) properties={'name': 'Security Camera B', 'location': 'Warehouse', 'type': 'Camera'}> end=<Node element_id='10' labels=frozenset({'Cloud'}) properties={'provider': 'Microsoft', 'name': 'Azure IoT Hub'}> size=2>>, <Record path=<Path start=<Node element_id='6' labels=frozenset({'Device'}) properties={'name': 'Industrial Robot 2', 'location': 'Warehouse', 'type': 'Actuator'}> end=<Node element_id='10' labels=frozenset({'Cloud'}) properties={'provider': 'Microsoft', 'name': 'Azure IoT Hub'}> size=2>>]\n"
          ]
        }
      ],
      "source": [
        "# Query 4: Find the data flow path from a sensor to the cloud\n",
        "query4 = \"\"\"\n",
        "MATCH path = (s:Device)-[:CONNECTED_TO*]->(c:Cloud)\n",
        "RETURN path;\n",
        "\"\"\"\n",
        "print(\"\\nQuery 4: Data flow path from sensors to cloud\")\n",
        "results = run_query(query4)\n",
        "print(results)"
      ]
    },
    {
      "cell_type": "code",
      "source": [
        "# Query 5: Find all nodes directly connected to the admin\n",
        "query5 = \"\"\"\n",
        "MATCH (u:User {name:'Admin'})-[:MANAGES]->(n)\n",
        "RETURN n.name AS ConnectedNode;\n",
        "\"\"\"\n",
        "print(\"\\nQuery 5: Nodes Managed by Admin\")\n",
        "results = run_query(query5)\n",
        "for record in results:\n",
        "    print(record)"
      ],
      "metadata": {
        "id": "tmOH8qcXuN9f",
        "colab": {
          "base_uri": "https://localhost:8080/"
        },
        "outputId": "f5a052e3-0bec-44fd-902b-c4fbd381b1c9"
      },
      "execution_count": 16,
      "outputs": [
        {
          "output_type": "stream",
          "name": "stdout",
          "text": [
            "\n",
            "Query 5: Nodes Managed by Admin\n"
          ]
        }
      ]
    },
    {
      "cell_type": "code",
      "source": [
        "# ===========================\n",
        "# 6. IoT Graph Analytics Queries (Complex)\n",
        "# ===========================\n",
        "\n",
        "# Query 1: Find the shortest path from a device to the cloud\n",
        "query1 = \"\"\"\n",
        "MATCH path = shortestPath((d:Device)-[:CONNECTED_TO*]->(c:Cloud))\n",
        "RETURN path;\n",
        "\"\"\"\n",
        "print(\"\\nQuery 1: Shortest path from a device to the cloud\")\n",
        "results = run_query(query1)\n",
        "print(results)"
      ],
      "metadata": {
        "id": "sPpunzCFvajv",
        "colab": {
          "base_uri": "https://localhost:8080/"
        },
        "outputId": "9118ce64-00d5-4e94-b9ff-a9b429b91984"
      },
      "execution_count": 17,
      "outputs": [
        {
          "output_type": "stream",
          "name": "stderr",
          "text": [
            "WARNING:neo4j.notifications:Received notification from DBMS server: {severity: WARNING} {code: Neo.ClientNotification.Statement.UnboundedVariableLengthPatternWarning} {category: } {title: The provided pattern is unbounded, consider adding an upper limit to the number of node hops.} {description: Using shortest path with an unbounded pattern will likely result in long execution times. It is recommended to use an upper limit to the number of node hops in your pattern.} {position: line: 2, column: 27, offset: 27} for query: '\\nMATCH path = shortestPath((d:Device)-[:CONNECTED_TO*]->(c:Cloud))\\nRETURN path;\\n'\n"
          ]
        },
        {
          "output_type": "stream",
          "name": "stdout",
          "text": [
            "\n",
            "Query 1: Shortest path from a device to the cloud\n",
            "[<Record path=<Path start=<Node element_id='0' labels=frozenset({'Device'}) properties={'name': 'Temp Sensor A', 'location': 'Factory Floor', 'type': 'Sensor'}> end=<Node element_id='9' labels=frozenset({'Cloud'}) properties={'provider': 'AWS', 'name': 'AWS IoT Cloud'}> size=2>>, <Record path=<Path start=<Node element_id='1' labels=frozenset({'Device'}) properties={'name': 'Temp Sensor B', 'location': 'Warehouse', 'type': 'Sensor'}> end=<Node element_id='10' labels=frozenset({'Cloud'}) properties={'provider': 'Microsoft', 'name': 'Azure IoT Hub'}> size=2>>, <Record path=<Path start=<Node element_id='2' labels=frozenset({'Device'}) properties={'name': 'Humidity Sensor', 'location': 'Factory Floor', 'type': 'Sensor'}> end=<Node element_id='9' labels=frozenset({'Cloud'}) properties={'provider': 'AWS', 'name': 'AWS IoT Cloud'}> size=2>>, <Record path=<Path start=<Node element_id='3' labels=frozenset({'Device'}) properties={'name': 'Security Camera A', 'location': 'Factory Entrance', 'type': 'Camera'}> end=<Node element_id='9' labels=frozenset({'Cloud'}) properties={'provider': 'AWS', 'name': 'AWS IoT Cloud'}> size=2>>, <Record path=<Path start=<Node element_id='4' labels=frozenset({'Device'}) properties={'name': 'Security Camera B', 'location': 'Warehouse', 'type': 'Camera'}> end=<Node element_id='10' labels=frozenset({'Cloud'}) properties={'provider': 'Microsoft', 'name': 'Azure IoT Hub'}> size=2>>, <Record path=<Path start=<Node element_id='5' labels=frozenset({'Device'}) properties={'name': 'Industrial Robot 1', 'location': 'Assembly Line', 'type': 'Actuator'}> end=<Node element_id='9' labels=frozenset({'Cloud'}) properties={'provider': 'AWS', 'name': 'AWS IoT Cloud'}> size=2>>, <Record path=<Path start=<Node element_id='6' labels=frozenset({'Device'}) properties={'name': 'Industrial Robot 2', 'location': 'Warehouse', 'type': 'Actuator'}> end=<Node element_id='10' labels=frozenset({'Cloud'}) properties={'provider': 'Microsoft', 'name': 'Azure IoT Hub'}> size=2>>]\n"
          ]
        }
      ]
    },
    {
      "cell_type": "code",
      "source": [
        "# Query 2: Find the most connected IoT device (degree centrality)\n",
        "query2 = \"\"\"\n",
        "MATCH (d:Device)-[:CONNECTED_TO*]->()\n",
        "RETURN d.name AS Device, count(*) AS Connections\n",
        "ORDER BY Connections DESC LIMIT 1;\n",
        "\"\"\"\n",
        "print(\"\\nQuery 2: Most connected IoT device (influencer)\")\n",
        "results = run_query(query2)\n",
        "for record in results:\n",
        "    print(record)"
      ],
      "metadata": {
        "id": "aRIatm5Hvd6H",
        "colab": {
          "base_uri": "https://localhost:8080/"
        },
        "outputId": "fed2e1eb-29be-4086-c130-1abc3bce17ad"
      },
      "execution_count": 18,
      "outputs": [
        {
          "output_type": "stream",
          "name": "stdout",
          "text": [
            "\n",
            "Query 2: Most connected IoT device (influencer)\n",
            "<Record Device='Temp Sensor A' Connections=2>\n"
          ]
        }
      ]
    },
    {
      "cell_type": "code",
      "source": [
        "# Query 3: Identify potential security vulnerabilities (devices with no admin)\n",
        "query3 = \"\"\"\n",
        "MATCH (d:Device)\n",
        "WHERE NOT EXISTS { MATCH (u:User)-[:MANAGES]->(d) }\n",
        "RETURN d.name AS UnmanagedDevice;\n",
        "\"\"\"\n",
        "print(\"\\nQuery 3: Unmanaged IOT devices(potential security risks)\")\n",
        "results = run_query(query3)\n",
        "for record in results:\n",
        "    print(record)"
      ],
      "metadata": {
        "id": "UxsehtP8vhDH",
        "colab": {
          "base_uri": "https://localhost:8080/"
        },
        "outputId": "1bc94c03-74c2-4aa4-8625-5b3ae4eb2187"
      },
      "execution_count": 25,
      "outputs": [
        {
          "output_type": "stream",
          "name": "stdout",
          "text": [
            "\n",
            "Query 3: Unmanaged IOT devices(potential security risks)\n",
            "<Record UnmanagedDevice='Temp Sensor B'>\n",
            "<Record UnmanagedDevice='Industrial Robot 2'>\n"
          ]
        }
      ]
    },
    {
      "cell_type": "code",
      "source": [
        "# Query 4: Detect impact of gateway failure (devices affected)\n",
        "query4 = \"\"\"\n",
        "MATCH (g:Gateway)<-[:CONNECTED_TO]-(d)\n",
        "RETURN d.name AS AffectedDevice;\n",
        "\"\"\"\n",
        "print(\"\\nQuery 4: Impact of Edge Gateway 1 failure\")\n",
        "results = run_query(query4)\n",
        "for record in results:\n",
        "    print(record)"
      ],
      "metadata": {
        "id": "7qcsTjemv0hu",
        "colab": {
          "base_uri": "https://localhost:8080/"
        },
        "outputId": "2f806271-ace9-4bc3-e6d5-17b9b4c9ea0c"
      },
      "execution_count": 27,
      "outputs": [
        {
          "output_type": "stream",
          "name": "stdout",
          "text": [
            "\n",
            "Query 4: Impact of Edge Gateway 1 failure\n",
            "<Record AffectedDevice='Industrial Robot 1'>\n",
            "<Record AffectedDevice='Security Camera A'>\n",
            "<Record AffectedDevice='Humidity Sensor'>\n",
            "<Record AffectedDevice='Temp Sensor A'>\n",
            "<Record AffectedDevice='Industrial Robot 2'>\n",
            "<Record AffectedDevice='Security Camera B'>\n",
            "<Record AffectedDevice='Temp Sensor B'>\n"
          ]
        }
      ]
    },
    {
      "cell_type": "code",
      "source": [
        "# ===========================\n",
        "# 7. Close Neo4j Connection\n",
        "# ===========================\n",
        "\n",
        "\n",
        "driver.close()\n",
        "print(\"\\nAdvanced Graph Analytics on IOT Database Completed!\")"
      ],
      "metadata": {
        "id": "U8j9-D60v97u",
        "colab": {
          "base_uri": "https://localhost:8080/"
        },
        "outputId": "3675b9c9-8cf1-4d1a-d8f3-94e8a8dd3328"
      },
      "execution_count": 28,
      "outputs": [
        {
          "output_type": "stream",
          "name": "stdout",
          "text": [
            "\n",
            "Advanced Graph Analytics on IOT Database Completed!\n"
          ]
        }
      ]
    }
  ],
  "metadata": {
    "kernelspec": {
      "display_name": "Python 3",
      "name": "python3"
    },
    "colab": {
      "provenance": [],
      "gpuType": "T4"
    },
    "accelerator": "GPU"
  },
  "nbformat": 4,
  "nbformat_minor": 0
}